{
 "cells": [
  {
   "cell_type": "markdown",
   "metadata": {},
   "source": [
    "# Ejercicio 1"
   ]
  },
  {
   "cell_type": "code",
   "execution_count": 3,
   "metadata": {},
   "outputs": [],
   "source": [
    "# Import numpy library and stats\n",
    "import numpy as np\n",
    "\n",
    "from scipy import stats"
   ]
  },
  {
   "cell_type": "code",
   "execution_count": 4,
   "metadata": {
    "scrolled": false
   },
   "outputs": [
    {
     "ename": "TypeError",
     "evalue": "El array tiene más de una dimensión",
     "output_type": "error",
     "traceback": [
      "\u001b[1;31m---------------------------------------------------------------------------\u001b[0m",
      "\u001b[1;31mTypeError\u001b[0m                                 Traceback (most recent call last)",
      "\u001b[1;32m<ipython-input-4-b45762f6b4b1>\u001b[0m in \u001b[0;36m<module>\u001b[1;34m\u001b[0m\n\u001b[0;32m     13\u001b[0m \u001b[1;33m\u001b[0m\u001b[0m\n\u001b[0;32m     14\u001b[0m \u001b[1;33m\u001b[0m\u001b[0m\n\u001b[1;32m---> 15\u001b[1;33m \u001b[0mdesc_estadistica\u001b[0m\u001b[1;33m(\u001b[0m\u001b[0marray\u001b[0m\u001b[1;33m)\u001b[0m\u001b[1;33m\u001b[0m\u001b[1;33m\u001b[0m\u001b[0m\n\u001b[0m",
      "\u001b[1;32m<ipython-input-4-b45762f6b4b1>\u001b[0m in \u001b[0;36mdesc_estadistica\u001b[1;34m(x)\u001b[0m\n\u001b[0;32m     10\u001b[0m             \u001b[0mprint\u001b[0m\u001b[1;33m(\u001b[0m\u001b[1;34m'Estadística descriptiva del array:'\u001b[0m\u001b[1;33m,\u001b[0m \u001b[0mstats\u001b[0m\u001b[1;33m.\u001b[0m\u001b[0mdescribe\u001b[0m\u001b[1;33m(\u001b[0m\u001b[0marray\u001b[0m\u001b[1;33m)\u001b[0m\u001b[1;33m)\u001b[0m\u001b[1;33m\u001b[0m\u001b[1;33m\u001b[0m\u001b[0m\n\u001b[0;32m     11\u001b[0m         \u001b[1;32melse\u001b[0m\u001b[1;33m:\u001b[0m\u001b[1;33m\u001b[0m\u001b[1;33m\u001b[0m\u001b[0m\n\u001b[1;32m---> 12\u001b[1;33m             \u001b[1;32mraise\u001b[0m \u001b[0mTypeError\u001b[0m\u001b[1;33m(\u001b[0m\u001b[1;34m\"El array tiene más de una dimensión\"\u001b[0m\u001b[1;33m)\u001b[0m\u001b[1;33m\u001b[0m\u001b[1;33m\u001b[0m\u001b[0m\n\u001b[0m\u001b[0;32m     13\u001b[0m \u001b[1;33m\u001b[0m\u001b[0m\n\u001b[0;32m     14\u001b[0m \u001b[1;33m\u001b[0m\u001b[0m\n",
      "\u001b[1;31mTypeError\u001b[0m: El array tiene más de una dimensión"
     ]
    }
   ],
   "source": [
    "# Estadística descriptiva sobre Array definido\n",
    "\n",
    "array = np.array([[1, 13], [2, 4]])\n",
    "\n",
    "array_dim = array.ndim\n",
    "\n",
    "\n",
    "def desc_estadistica(x):\n",
    "        if array_dim == 1:\n",
    "            print('Estadística descriptiva del array:', stats.describe(array))\n",
    "        else:\n",
    "            raise TypeError(\"El array tiene más de una dimensión\")\n",
    "   \n",
    "    \n",
    "desc_estadistica(array)"
   ]
  },
  {
   "cell_type": "markdown",
   "metadata": {},
   "source": [
    "# Ejercicio 1 (con \"except\")"
   ]
  },
  {
   "cell_type": "code",
   "execution_count": 6,
   "metadata": {},
   "outputs": [
    {
     "name": "stdout",
     "output_type": "stream",
     "text": [
      "Error descriptivo: El array tiene más de una dimensión y no puede ser descripto.\n"
     ]
    }
   ],
   "source": [
    "# Estadística descriptiva sobre Array definido\n",
    "\n",
    "array = np.array([[1, 13], [2, 4]])\n",
    "\n",
    "array_dim = array.ndim\n",
    "\n",
    "\n",
    "def desc_estadistica(x):\n",
    "        try:\n",
    "            if array_dim == 1:\n",
    "                print('Estadística descriptiva del array:', stats.describe(array))\n",
    "        except TypeError as err:\n",
    "            print(\"El array tiene más de una dimensión\", err)\n",
    "        else:\n",
    "            print(\"Error descriptivo: El array tiene más de una dimensión y no puede ser descripto.\")\n",
    "   \n",
    "    \n",
    "desc_estadistica(array)"
   ]
  },
  {
   "cell_type": "markdown",
   "metadata": {},
   "source": [
    "# Ejercicio 2"
   ]
  },
  {
   "cell_type": "code",
   "execution_count": 8,
   "metadata": {},
   "outputs": [
    {
     "name": "stdout",
     "output_type": "stream",
     "text": [
      "El número aleatorio es:  99\n",
      "El cuadrado del número aleatorio es : 9801\n"
     ]
    }
   ],
   "source": [
    "from numpy import random\n",
    "numero_random = random.randint(100)\n",
    "print('El número aleatorio es: ', numero_random)\n",
    "\n",
    "def cuadrado(x):\n",
    "    return print('El cuadrado del número aleatorio es :', numero_random**2)\n",
    "    \n",
    "\n",
    "cuadrado(numero_random)\n",
    "\n"
   ]
  },
  {
   "cell_type": "markdown",
   "metadata": {},
   "source": [
    "# Ejercicio 3"
   ]
  },
  {
   "cell_type": "code",
   "execution_count": 11,
   "metadata": {},
   "outputs": [
    {
     "name": "stdout",
     "output_type": "stream",
     "text": [
      "Array aleatorio:  [[33 25]]\n",
      "Los totales de cada columna son:  [33 25]\n",
      "Los totales de cada fila son:  [58]\n"
     ]
    }
   ],
   "source": [
    "# Función para calcular totales de files y de columnas (suma o cant de indices?).\n",
    "r1 = random.randint(1, 5)\n",
    "r2 = random.randint(1, 5)\n",
    "tabla_dd = random.randint(100, size=(r1, r2))\n",
    "print('Array aleatorio: ', tabla_dd)\n",
    "\n",
    "total_columnas = tabla_dd.sum(axis=0)\n",
    "total_filas = tabla_dd.sum(axis=1)\n",
    "\n",
    "print('Los totales de cada columna son: ', total_columnas)\n",
    "print('Los totales de cada fila son: ', total_filas)\n"
   ]
  },
  {
   "cell_type": "markdown",
   "metadata": {},
   "source": [
    "# Ejercicio 4"
   ]
  },
  {
   "cell_type": "code",
   "execution_count": 41,
   "metadata": {},
   "outputs": [
    {
     "name": "stdout",
     "output_type": "stream",
     "text": [
      "El coeficiente de correlación es:  -0.9592219133418863\n",
      "check [[ 1.         -0.95922191]\n",
      " [-0.95922191  1.        ]]\n",
      "Coeficiente de determinarción (R**2):  (5.997087727134977e-17+0.9793987509395171j)\n"
     ]
    }
   ],
   "source": [
    "import numpy as np\n",
    "import pandas as pd\n",
    "import matplotlib.pyplot as plt\n",
    "%matplotlib inline\n",
    "\n",
    "# Generamos Array compuesto por Precio y Cantidad tranzada en el mercado\n",
    "\n",
    "xy_dat = {'precio': [3, 2.7, 3, 2.5, 2.4, 2.5, 2.2, 2.6, 2.5, 2, 1.8, 1.8], 'cant': [1, 3, 2, 4, 4, 4, 6, 4, 6, 7, 9, 10]}\n",
    "x=xy_dat['precio']\n",
    "y=xy_dat['cant']\n",
    "\n",
    "xy_data = pd.DataFrame(data=xy_dat)\n",
    "\n",
    "# Obtenemos N y media para ambas variables\n",
    "\n",
    "N = len(xy_data['precio'])\n",
    "media_x = sum(xy_data['precio'])/N\n",
    "media_y = sum(xy_data['cant'])/N\n",
    "\n",
    "# Obtenemos X*Y para cada par muestral y la respectiva suma\n",
    "\n",
    "xy_mult = xy_data['precio']*xy_data['cant']\n",
    "xy_mult_sum = sum(xy_mult)\n",
    "\n",
    "# Calculamos COVAR y desviación de cada variable:\n",
    "\n",
    "covar_xy = (xy_mult_sum/N) - (media_x * media_y)\n",
    "\n",
    "x_2 = xy_data['precio']**2\n",
    "y_2 = xy_data['cant']**2\n",
    "x_2_sum = sum(x_2)\n",
    "y_2_sum = sum(y_2)\n",
    "\n",
    "\n",
    "desv_x = ((x_2_sum)/N - media_x**2)**(1/2)\n",
    "desv_y = ((y_2_sum)/N - media_y**2)**(1/2)\n",
    "\n",
    "# Coeficiente de correlación:\n",
    "\n",
    "coef_correlacion = covar_xy/(desv_x*desv_y)\n",
    "\n",
    "print('El coeficiente de correlación es: ', coef_correlacion)\n",
    "\n",
    "coef_correlacion_check = np.corrcoef(x, y)\n",
    "print('check', coef_correlacion_check)\n",
    "\n",
    "coef_determinacion = coef_correlacion**(1/2)\n",
    "\n",
    "print('Coeficiente de determinarción (R**2): ', coef_determinacion)"
   ]
  },
  {
   "cell_type": "code",
   "execution_count": null,
   "metadata": {},
   "outputs": [],
   "source": []
  }
 ],
 "metadata": {
  "kernelspec": {
   "display_name": "Python 3",
   "language": "python",
   "name": "python3"
  },
  "language_info": {
   "codemirror_mode": {
    "name": "ipython",
    "version": 3
   },
   "file_extension": ".py",
   "mimetype": "text/x-python",
   "name": "python",
   "nbconvert_exporter": "python",
   "pygments_lexer": "ipython3",
   "version": "3.7.4"
  }
 },
 "nbformat": 4,
 "nbformat_minor": 2
}
